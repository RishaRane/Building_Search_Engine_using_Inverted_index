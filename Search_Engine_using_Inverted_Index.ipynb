{
  "nbformat": 4,
  "nbformat_minor": 0,
  "metadata": {
    "colab": {
      "provenance": []
    },
    "kernelspec": {
      "name": "python3",
      "display_name": "Python 3"
    },
    "language_info": {
      "name": "python"
    }
  },
  "cells": [
    {
      "cell_type": "markdown",
      "source": [
        "# Building a `Search Engine` using `Inverted Index`"
      ],
      "metadata": {
        "id": "F_pfqvp8UZBI"
      }
    },
    {
      "cell_type": "markdown",
      "source": [
        "![architecture](https://drive.google.com/uc?export=view&id=1Q3KoQOlAsiteEyCi1ov-obc2J7w33N8D)"
      ],
      "metadata": {
        "id": "oPe1HejTUr2-"
      }
    },
    {
      "cell_type": "markdown",
      "source": [
        "### 1. Loading the Data"
      ],
      "metadata": {
        "id": "tjTaP4_HwAl8"
      }
    },
    {
      "cell_type": "code",
      "execution_count": null,
      "metadata": {
        "id": "-P_y_kDEut8j"
      },
      "outputs": [],
      "source": [
        "!pip install kagglehub"
      ]
    },
    {
      "cell_type": "code",
      "source": [
        "import kagglehub\n",
        "import shutil\n",
        "\n",
        "#Dataset Path\n",
        "path = kagglehub.dataset_download(\"ravindrasinghrana/job-description-dataset\")\n",
        "\n",
        "#Moving the destination\n",
        "destination_path = '/content'\n",
        "shutil.move(path, destination_path)"
      ],
      "metadata": {
        "colab": {
          "base_uri": "https://localhost:8080/",
          "height": 124
        },
        "id": "E2BG7g-WuytS",
        "outputId": "4e51f18e-cb5b-4b77-fe5a-f7317f9a99af"
      },
      "execution_count": 96,
      "outputs": [
        {
          "output_type": "stream",
          "name": "stdout",
          "text": [
            "Warning: Looks like you're using an outdated `kagglehub` version, please consider updating (latest version: 0.3.4)\n",
            "Downloading from https://www.kaggle.com/api/v1/datasets/download/ravindrasinghrana/job-description-dataset?dataset_version_number=1...\n"
          ]
        },
        {
          "output_type": "stream",
          "name": "stderr",
          "text": [
            "100%|██████████| 457M/457M [00:07<00:00, 65.0MB/s]"
          ]
        },
        {
          "output_type": "stream",
          "name": "stdout",
          "text": [
            "Extracting files...\n"
          ]
        },
        {
          "output_type": "stream",
          "name": "stderr",
          "text": [
            "\n"
          ]
        },
        {
          "output_type": "execute_result",
          "data": {
            "text/plain": [
              "'/content/1'"
            ],
            "application/vnd.google.colaboratory.intrinsic+json": {
              "type": "string"
            }
          },
          "metadata": {},
          "execution_count": 96
        }
      ]
    },
    {
      "cell_type": "code",
      "source": [
        "print(\"Path to dataset files:\", path)"
      ],
      "metadata": {
        "colab": {
          "base_uri": "https://localhost:8080/"
        },
        "id": "3RIGStZNvhKO",
        "outputId": "32f15b48-b3a9-460a-cd91-be31d444b263"
      },
      "execution_count": 97,
      "outputs": [
        {
          "output_type": "stream",
          "name": "stdout",
          "text": [
            "Path to dataset files: /root/.cache/kagglehub/datasets/ravindrasinghrana/job-description-dataset/versions/1\n"
          ]
        }
      ]
    },
    {
      "cell_type": "code",
      "source": [
        "print(\"Shifted Destination Path:\", destination_path)"
      ],
      "metadata": {
        "colab": {
          "base_uri": "https://localhost:8080/"
        },
        "id": "ZdsDRzrmvyhy",
        "outputId": "dd569a24-dd51-499e-f129-027579b0cee4"
      },
      "execution_count": 98,
      "outputs": [
        {
          "output_type": "stream",
          "name": "stdout",
          "text": [
            "Shifted Destination Path: /content\n"
          ]
        }
      ]
    },
    {
      "cell_type": "code",
      "source": [
        "#import necessary libraries\n",
        "import pandas as pd\n",
        "import spacy\n",
        "from collections import defaultdict\n",
        "\n",
        "nlp = spacy.load(\"en_core_web_sm\")"
      ],
      "metadata": {
        "id": "8Qe5cCwIwNQ1"
      },
      "execution_count": 114,
      "outputs": []
    },
    {
      "cell_type": "code",
      "source": [
        "df = pd.read_csv('/content/1/job_descriptions.csv')"
      ],
      "metadata": {
        "id": "KVPZi9sdv-92"
      },
      "execution_count": 136,
      "outputs": []
    },
    {
      "cell_type": "code",
      "source": [
        "df.shape"
      ],
      "metadata": {
        "colab": {
          "base_uri": "https://localhost:8080/"
        },
        "id": "XBT6En4iwR0h",
        "outputId": "e481aa7e-242f-4d96-ed9d-0a250cc8a797"
      },
      "execution_count": 137,
      "outputs": [
        {
          "output_type": "execute_result",
          "data": {
            "text/plain": [
              "(1615940, 23)"
            ]
          },
          "metadata": {},
          "execution_count": 137
        }
      ]
    },
    {
      "cell_type": "code",
      "source": [
        "df.head(3)"
      ],
      "metadata": {
        "colab": {
          "base_uri": "https://localhost:8080/",
          "height": 436
        },
        "id": "O6gncRliwTkr",
        "outputId": "c0a444f2-136a-499a-8aff-630c2cd2f5e2"
      },
      "execution_count": 138,
      "outputs": [
        {
          "output_type": "execute_result",
          "data": {
            "text/plain": [
              "             Job Id     Experience Qualifications Salary Range  location  \\\n",
              "0  1089843540111562  5 to 15 Years         M.Tech    $59K-$99K   Douglas   \n",
              "1   398454096642776  2 to 12 Years            BCA   $56K-$116K  Ashgabat   \n",
              "2   481640072963533  0 to 12 Years            PhD   $61K-$104K     Macao   \n",
              "\n",
              "            Country  latitude  longitude  Work Type  Company Size  ...  \\\n",
              "0       Isle of Man   54.2361    -4.5481     Intern         26801  ...   \n",
              "1      Turkmenistan   38.9697    59.5563     Intern        100340  ...   \n",
              "2  Macao SAR, China   22.1987   113.5439  Temporary         84525  ...   \n",
              "\n",
              "                Contact                     Job Title  \\\n",
              "0  001-381-930-7517x737  Digital Marketing Specialist   \n",
              "1          461-509-4216                 Web Developer   \n",
              "2            9687619505            Operations Manager   \n",
              "\n",
              "                      Role    Job Portal  \\\n",
              "0     Social Media Manager      Snagajob   \n",
              "1   Frontend Web Developer      Idealist   \n",
              "2  Quality Control Manager  Jobs2Careers   \n",
              "\n",
              "                                     Job Description  \\\n",
              "0  Social Media Managers oversee an organizations...   \n",
              "1  Frontend Web Developers design and implement u...   \n",
              "2  Quality Control Managers establish and enforce...   \n",
              "\n",
              "                                            Benefits  \\\n",
              "0  {'Flexible Spending Accounts (FSAs), Relocatio...   \n",
              "1  {'Health Insurance, Retirement Plans, Paid Tim...   \n",
              "2  {'Legal Assistance, Bonuses and Incentive Prog...   \n",
              "\n",
              "                                              skills  \\\n",
              "0  Social media platforms (e.g., Facebook, Twitte...   \n",
              "1  HTML, CSS, JavaScript Frontend frameworks (e.g...   \n",
              "2  Quality control processes and methodologies St...   \n",
              "\n",
              "                                    Responsibilities  \\\n",
              "0  Manage and grow social media accounts, create ...   \n",
              "1  Design and code user interfaces for websites, ...   \n",
              "2  Establish and enforce quality control standard...   \n",
              "\n",
              "                            Company  \\\n",
              "0                 Icahn Enterprises   \n",
              "1      PNC Financial Services Group   \n",
              "2  United Services Automobile Assn.   \n",
              "\n",
              "                                     Company Profile  \n",
              "0  {\"Sector\":\"Diversified\",\"Industry\":\"Diversifie...  \n",
              "1  {\"Sector\":\"Financial Services\",\"Industry\":\"Com...  \n",
              "2  {\"Sector\":\"Insurance\",\"Industry\":\"Insurance: P...  \n",
              "\n",
              "[3 rows x 23 columns]"
            ],
            "text/html": [
              "\n",
              "  <div id=\"df-00cca650-6dba-4bcb-86d0-9516c659c8e2\" class=\"colab-df-container\">\n",
              "    <div>\n",
              "<style scoped>\n",
              "    .dataframe tbody tr th:only-of-type {\n",
              "        vertical-align: middle;\n",
              "    }\n",
              "\n",
              "    .dataframe tbody tr th {\n",
              "        vertical-align: top;\n",
              "    }\n",
              "\n",
              "    .dataframe thead th {\n",
              "        text-align: right;\n",
              "    }\n",
              "</style>\n",
              "<table border=\"1\" class=\"dataframe\">\n",
              "  <thead>\n",
              "    <tr style=\"text-align: right;\">\n",
              "      <th></th>\n",
              "      <th>Job Id</th>\n",
              "      <th>Experience</th>\n",
              "      <th>Qualifications</th>\n",
              "      <th>Salary Range</th>\n",
              "      <th>location</th>\n",
              "      <th>Country</th>\n",
              "      <th>latitude</th>\n",
              "      <th>longitude</th>\n",
              "      <th>Work Type</th>\n",
              "      <th>Company Size</th>\n",
              "      <th>...</th>\n",
              "      <th>Contact</th>\n",
              "      <th>Job Title</th>\n",
              "      <th>Role</th>\n",
              "      <th>Job Portal</th>\n",
              "      <th>Job Description</th>\n",
              "      <th>Benefits</th>\n",
              "      <th>skills</th>\n",
              "      <th>Responsibilities</th>\n",
              "      <th>Company</th>\n",
              "      <th>Company Profile</th>\n",
              "    </tr>\n",
              "  </thead>\n",
              "  <tbody>\n",
              "    <tr>\n",
              "      <th>0</th>\n",
              "      <td>1089843540111562</td>\n",
              "      <td>5 to 15 Years</td>\n",
              "      <td>M.Tech</td>\n",
              "      <td>$59K-$99K</td>\n",
              "      <td>Douglas</td>\n",
              "      <td>Isle of Man</td>\n",
              "      <td>54.2361</td>\n",
              "      <td>-4.5481</td>\n",
              "      <td>Intern</td>\n",
              "      <td>26801</td>\n",
              "      <td>...</td>\n",
              "      <td>001-381-930-7517x737</td>\n",
              "      <td>Digital Marketing Specialist</td>\n",
              "      <td>Social Media Manager</td>\n",
              "      <td>Snagajob</td>\n",
              "      <td>Social Media Managers oversee an organizations...</td>\n",
              "      <td>{'Flexible Spending Accounts (FSAs), Relocatio...</td>\n",
              "      <td>Social media platforms (e.g., Facebook, Twitte...</td>\n",
              "      <td>Manage and grow social media accounts, create ...</td>\n",
              "      <td>Icahn Enterprises</td>\n",
              "      <td>{\"Sector\":\"Diversified\",\"Industry\":\"Diversifie...</td>\n",
              "    </tr>\n",
              "    <tr>\n",
              "      <th>1</th>\n",
              "      <td>398454096642776</td>\n",
              "      <td>2 to 12 Years</td>\n",
              "      <td>BCA</td>\n",
              "      <td>$56K-$116K</td>\n",
              "      <td>Ashgabat</td>\n",
              "      <td>Turkmenistan</td>\n",
              "      <td>38.9697</td>\n",
              "      <td>59.5563</td>\n",
              "      <td>Intern</td>\n",
              "      <td>100340</td>\n",
              "      <td>...</td>\n",
              "      <td>461-509-4216</td>\n",
              "      <td>Web Developer</td>\n",
              "      <td>Frontend Web Developer</td>\n",
              "      <td>Idealist</td>\n",
              "      <td>Frontend Web Developers design and implement u...</td>\n",
              "      <td>{'Health Insurance, Retirement Plans, Paid Tim...</td>\n",
              "      <td>HTML, CSS, JavaScript Frontend frameworks (e.g...</td>\n",
              "      <td>Design and code user interfaces for websites, ...</td>\n",
              "      <td>PNC Financial Services Group</td>\n",
              "      <td>{\"Sector\":\"Financial Services\",\"Industry\":\"Com...</td>\n",
              "    </tr>\n",
              "    <tr>\n",
              "      <th>2</th>\n",
              "      <td>481640072963533</td>\n",
              "      <td>0 to 12 Years</td>\n",
              "      <td>PhD</td>\n",
              "      <td>$61K-$104K</td>\n",
              "      <td>Macao</td>\n",
              "      <td>Macao SAR, China</td>\n",
              "      <td>22.1987</td>\n",
              "      <td>113.5439</td>\n",
              "      <td>Temporary</td>\n",
              "      <td>84525</td>\n",
              "      <td>...</td>\n",
              "      <td>9687619505</td>\n",
              "      <td>Operations Manager</td>\n",
              "      <td>Quality Control Manager</td>\n",
              "      <td>Jobs2Careers</td>\n",
              "      <td>Quality Control Managers establish and enforce...</td>\n",
              "      <td>{'Legal Assistance, Bonuses and Incentive Prog...</td>\n",
              "      <td>Quality control processes and methodologies St...</td>\n",
              "      <td>Establish and enforce quality control standard...</td>\n",
              "      <td>United Services Automobile Assn.</td>\n",
              "      <td>{\"Sector\":\"Insurance\",\"Industry\":\"Insurance: P...</td>\n",
              "    </tr>\n",
              "  </tbody>\n",
              "</table>\n",
              "<p>3 rows × 23 columns</p>\n",
              "</div>\n",
              "    <div class=\"colab-df-buttons\">\n",
              "\n",
              "  <div class=\"colab-df-container\">\n",
              "    <button class=\"colab-df-convert\" onclick=\"convertToInteractive('df-00cca650-6dba-4bcb-86d0-9516c659c8e2')\"\n",
              "            title=\"Convert this dataframe to an interactive table.\"\n",
              "            style=\"display:none;\">\n",
              "\n",
              "  <svg xmlns=\"http://www.w3.org/2000/svg\" height=\"24px\" viewBox=\"0 -960 960 960\">\n",
              "    <path d=\"M120-120v-720h720v720H120Zm60-500h600v-160H180v160Zm220 220h160v-160H400v160Zm0 220h160v-160H400v160ZM180-400h160v-160H180v160Zm440 0h160v-160H620v160ZM180-180h160v-160H180v160Zm440 0h160v-160H620v160Z\"/>\n",
              "  </svg>\n",
              "    </button>\n",
              "\n",
              "  <style>\n",
              "    .colab-df-container {\n",
              "      display:flex;\n",
              "      gap: 12px;\n",
              "    }\n",
              "\n",
              "    .colab-df-convert {\n",
              "      background-color: #E8F0FE;\n",
              "      border: none;\n",
              "      border-radius: 50%;\n",
              "      cursor: pointer;\n",
              "      display: none;\n",
              "      fill: #1967D2;\n",
              "      height: 32px;\n",
              "      padding: 0 0 0 0;\n",
              "      width: 32px;\n",
              "    }\n",
              "\n",
              "    .colab-df-convert:hover {\n",
              "      background-color: #E2EBFA;\n",
              "      box-shadow: 0px 1px 2px rgba(60, 64, 67, 0.3), 0px 1px 3px 1px rgba(60, 64, 67, 0.15);\n",
              "      fill: #174EA6;\n",
              "    }\n",
              "\n",
              "    .colab-df-buttons div {\n",
              "      margin-bottom: 4px;\n",
              "    }\n",
              "\n",
              "    [theme=dark] .colab-df-convert {\n",
              "      background-color: #3B4455;\n",
              "      fill: #D2E3FC;\n",
              "    }\n",
              "\n",
              "    [theme=dark] .colab-df-convert:hover {\n",
              "      background-color: #434B5C;\n",
              "      box-shadow: 0px 1px 3px 1px rgba(0, 0, 0, 0.15);\n",
              "      filter: drop-shadow(0px 1px 2px rgba(0, 0, 0, 0.3));\n",
              "      fill: #FFFFFF;\n",
              "    }\n",
              "  </style>\n",
              "\n",
              "    <script>\n",
              "      const buttonEl =\n",
              "        document.querySelector('#df-00cca650-6dba-4bcb-86d0-9516c659c8e2 button.colab-df-convert');\n",
              "      buttonEl.style.display =\n",
              "        google.colab.kernel.accessAllowed ? 'block' : 'none';\n",
              "\n",
              "      async function convertToInteractive(key) {\n",
              "        const element = document.querySelector('#df-00cca650-6dba-4bcb-86d0-9516c659c8e2');\n",
              "        const dataTable =\n",
              "          await google.colab.kernel.invokeFunction('convertToInteractive',\n",
              "                                                    [key], {});\n",
              "        if (!dataTable) return;\n",
              "\n",
              "        const docLinkHtml = 'Like what you see? Visit the ' +\n",
              "          '<a target=\"_blank\" href=https://colab.research.google.com/notebooks/data_table.ipynb>data table notebook</a>'\n",
              "          + ' to learn more about interactive tables.';\n",
              "        element.innerHTML = '';\n",
              "        dataTable['output_type'] = 'display_data';\n",
              "        await google.colab.output.renderOutput(dataTable, element);\n",
              "        const docLink = document.createElement('div');\n",
              "        docLink.innerHTML = docLinkHtml;\n",
              "        element.appendChild(docLink);\n",
              "      }\n",
              "    </script>\n",
              "  </div>\n",
              "\n",
              "\n",
              "<div id=\"df-cece51ec-8af3-432b-8d39-9301504693c9\">\n",
              "  <button class=\"colab-df-quickchart\" onclick=\"quickchart('df-cece51ec-8af3-432b-8d39-9301504693c9')\"\n",
              "            title=\"Suggest charts\"\n",
              "            style=\"display:none;\">\n",
              "\n",
              "<svg xmlns=\"http://www.w3.org/2000/svg\" height=\"24px\"viewBox=\"0 0 24 24\"\n",
              "     width=\"24px\">\n",
              "    <g>\n",
              "        <path d=\"M19 3H5c-1.1 0-2 .9-2 2v14c0 1.1.9 2 2 2h14c1.1 0 2-.9 2-2V5c0-1.1-.9-2-2-2zM9 17H7v-7h2v7zm4 0h-2V7h2v10zm4 0h-2v-4h2v4z\"/>\n",
              "    </g>\n",
              "</svg>\n",
              "  </button>\n",
              "\n",
              "<style>\n",
              "  .colab-df-quickchart {\n",
              "      --bg-color: #E8F0FE;\n",
              "      --fill-color: #1967D2;\n",
              "      --hover-bg-color: #E2EBFA;\n",
              "      --hover-fill-color: #174EA6;\n",
              "      --disabled-fill-color: #AAA;\n",
              "      --disabled-bg-color: #DDD;\n",
              "  }\n",
              "\n",
              "  [theme=dark] .colab-df-quickchart {\n",
              "      --bg-color: #3B4455;\n",
              "      --fill-color: #D2E3FC;\n",
              "      --hover-bg-color: #434B5C;\n",
              "      --hover-fill-color: #FFFFFF;\n",
              "      --disabled-bg-color: #3B4455;\n",
              "      --disabled-fill-color: #666;\n",
              "  }\n",
              "\n",
              "  .colab-df-quickchart {\n",
              "    background-color: var(--bg-color);\n",
              "    border: none;\n",
              "    border-radius: 50%;\n",
              "    cursor: pointer;\n",
              "    display: none;\n",
              "    fill: var(--fill-color);\n",
              "    height: 32px;\n",
              "    padding: 0;\n",
              "    width: 32px;\n",
              "  }\n",
              "\n",
              "  .colab-df-quickchart:hover {\n",
              "    background-color: var(--hover-bg-color);\n",
              "    box-shadow: 0 1px 2px rgba(60, 64, 67, 0.3), 0 1px 3px 1px rgba(60, 64, 67, 0.15);\n",
              "    fill: var(--button-hover-fill-color);\n",
              "  }\n",
              "\n",
              "  .colab-df-quickchart-complete:disabled,\n",
              "  .colab-df-quickchart-complete:disabled:hover {\n",
              "    background-color: var(--disabled-bg-color);\n",
              "    fill: var(--disabled-fill-color);\n",
              "    box-shadow: none;\n",
              "  }\n",
              "\n",
              "  .colab-df-spinner {\n",
              "    border: 2px solid var(--fill-color);\n",
              "    border-color: transparent;\n",
              "    border-bottom-color: var(--fill-color);\n",
              "    animation:\n",
              "      spin 1s steps(1) infinite;\n",
              "  }\n",
              "\n",
              "  @keyframes spin {\n",
              "    0% {\n",
              "      border-color: transparent;\n",
              "      border-bottom-color: var(--fill-color);\n",
              "      border-left-color: var(--fill-color);\n",
              "    }\n",
              "    20% {\n",
              "      border-color: transparent;\n",
              "      border-left-color: var(--fill-color);\n",
              "      border-top-color: var(--fill-color);\n",
              "    }\n",
              "    30% {\n",
              "      border-color: transparent;\n",
              "      border-left-color: var(--fill-color);\n",
              "      border-top-color: var(--fill-color);\n",
              "      border-right-color: var(--fill-color);\n",
              "    }\n",
              "    40% {\n",
              "      border-color: transparent;\n",
              "      border-right-color: var(--fill-color);\n",
              "      border-top-color: var(--fill-color);\n",
              "    }\n",
              "    60% {\n",
              "      border-color: transparent;\n",
              "      border-right-color: var(--fill-color);\n",
              "    }\n",
              "    80% {\n",
              "      border-color: transparent;\n",
              "      border-right-color: var(--fill-color);\n",
              "      border-bottom-color: var(--fill-color);\n",
              "    }\n",
              "    90% {\n",
              "      border-color: transparent;\n",
              "      border-bottom-color: var(--fill-color);\n",
              "    }\n",
              "  }\n",
              "</style>\n",
              "\n",
              "  <script>\n",
              "    async function quickchart(key) {\n",
              "      const quickchartButtonEl =\n",
              "        document.querySelector('#' + key + ' button');\n",
              "      quickchartButtonEl.disabled = true;  // To prevent multiple clicks.\n",
              "      quickchartButtonEl.classList.add('colab-df-spinner');\n",
              "      try {\n",
              "        const charts = await google.colab.kernel.invokeFunction(\n",
              "            'suggestCharts', [key], {});\n",
              "      } catch (error) {\n",
              "        console.error('Error during call to suggestCharts:', error);\n",
              "      }\n",
              "      quickchartButtonEl.classList.remove('colab-df-spinner');\n",
              "      quickchartButtonEl.classList.add('colab-df-quickchart-complete');\n",
              "    }\n",
              "    (() => {\n",
              "      let quickchartButtonEl =\n",
              "        document.querySelector('#df-cece51ec-8af3-432b-8d39-9301504693c9 button');\n",
              "      quickchartButtonEl.style.display =\n",
              "        google.colab.kernel.accessAllowed ? 'block' : 'none';\n",
              "    })();\n",
              "  </script>\n",
              "</div>\n",
              "\n",
              "    </div>\n",
              "  </div>\n"
            ],
            "application/vnd.google.colaboratory.intrinsic+json": {
              "type": "dataframe",
              "variable_name": "df"
            }
          },
          "metadata": {},
          "execution_count": 138
        }
      ]
    },
    {
      "cell_type": "code",
      "source": [
        "#Considering only first 1 lakh rows\n",
        "df = df[:100000]"
      ],
      "metadata": {
        "id": "pX7ltsLGEdvY"
      },
      "execution_count": 139,
      "outputs": []
    },
    {
      "cell_type": "code",
      "source": [
        "df.shape"
      ],
      "metadata": {
        "colab": {
          "base_uri": "https://localhost:8080/"
        },
        "id": "OFVd37j4EuVX",
        "outputId": "e5c55581-bd6d-4446-d793-5c6bdda623c4"
      },
      "execution_count": 140,
      "outputs": [
        {
          "output_type": "execute_result",
          "data": {
            "text/plain": [
              "(100000, 23)"
            ]
          },
          "metadata": {},
          "execution_count": 140
        }
      ]
    },
    {
      "cell_type": "markdown",
      "source": [
        "### 2. Data Cleaning and Preprocessing"
      ],
      "metadata": {
        "id": "A8XJLeqOwbNS"
      }
    },
    {
      "cell_type": "markdown",
      "source": [
        "**2.1 Deleting Unwanted Columns**"
      ],
      "metadata": {
        "id": "NMSeKGXZwfPl"
      }
    },
    {
      "cell_type": "code",
      "source": [
        "df.columns"
      ],
      "metadata": {
        "colab": {
          "base_uri": "https://localhost:8080/"
        },
        "id": "0fnVd6yGwVgV",
        "outputId": "cc0d30c4-ec69-4419-daae-dea29c6a6c9f"
      },
      "execution_count": 141,
      "outputs": [
        {
          "output_type": "execute_result",
          "data": {
            "text/plain": [
              "Index(['Job Id', 'Experience', 'Qualifications', 'Salary Range', 'location',\n",
              "       'Country', 'latitude', 'longitude', 'Work Type', 'Company Size',\n",
              "       'Job Posting Date', 'Preference', 'Contact Person', 'Contact',\n",
              "       'Job Title', 'Role', 'Job Portal', 'Job Description', 'Benefits',\n",
              "       'skills', 'Responsibilities', 'Company', 'Company Profile'],\n",
              "      dtype='object')"
            ]
          },
          "metadata": {},
          "execution_count": 141
        }
      ]
    },
    {
      "cell_type": "code",
      "source": [
        "df.drop(columns=['Job Id','latitude', 'longitude','Job Portal', 'location','Company Profile', 'Job Description'],\n",
        "        inplace = True)"
      ],
      "metadata": {
        "id": "G-QitsN_wego"
      },
      "execution_count": 142,
      "outputs": []
    },
    {
      "cell_type": "code",
      "source": [
        "df.isna().sum()"
      ],
      "metadata": {
        "colab": {
          "base_uri": "https://localhost:8080/",
          "height": 586
        },
        "id": "k_TtJds9wwUD",
        "outputId": "b54b2313-a163-40c4-96d8-b37a3b5aae5a"
      },
      "execution_count": 143,
      "outputs": [
        {
          "output_type": "execute_result",
          "data": {
            "text/plain": [
              "Experience          0\n",
              "Qualifications      0\n",
              "Salary Range        0\n",
              "Country             0\n",
              "Work Type           0\n",
              "Company Size        0\n",
              "Job Posting Date    0\n",
              "Preference          0\n",
              "Contact Person      0\n",
              "Contact             0\n",
              "Job Title           0\n",
              "Role                0\n",
              "Benefits            0\n",
              "skills              0\n",
              "Responsibilities    0\n",
              "Company             0\n",
              "dtype: int64"
            ],
            "text/html": [
              "<div>\n",
              "<style scoped>\n",
              "    .dataframe tbody tr th:only-of-type {\n",
              "        vertical-align: middle;\n",
              "    }\n",
              "\n",
              "    .dataframe tbody tr th {\n",
              "        vertical-align: top;\n",
              "    }\n",
              "\n",
              "    .dataframe thead th {\n",
              "        text-align: right;\n",
              "    }\n",
              "</style>\n",
              "<table border=\"1\" class=\"dataframe\">\n",
              "  <thead>\n",
              "    <tr style=\"text-align: right;\">\n",
              "      <th></th>\n",
              "      <th>0</th>\n",
              "    </tr>\n",
              "  </thead>\n",
              "  <tbody>\n",
              "    <tr>\n",
              "      <th>Experience</th>\n",
              "      <td>0</td>\n",
              "    </tr>\n",
              "    <tr>\n",
              "      <th>Qualifications</th>\n",
              "      <td>0</td>\n",
              "    </tr>\n",
              "    <tr>\n",
              "      <th>Salary Range</th>\n",
              "      <td>0</td>\n",
              "    </tr>\n",
              "    <tr>\n",
              "      <th>Country</th>\n",
              "      <td>0</td>\n",
              "    </tr>\n",
              "    <tr>\n",
              "      <th>Work Type</th>\n",
              "      <td>0</td>\n",
              "    </tr>\n",
              "    <tr>\n",
              "      <th>Company Size</th>\n",
              "      <td>0</td>\n",
              "    </tr>\n",
              "    <tr>\n",
              "      <th>Job Posting Date</th>\n",
              "      <td>0</td>\n",
              "    </tr>\n",
              "    <tr>\n",
              "      <th>Preference</th>\n",
              "      <td>0</td>\n",
              "    </tr>\n",
              "    <tr>\n",
              "      <th>Contact Person</th>\n",
              "      <td>0</td>\n",
              "    </tr>\n",
              "    <tr>\n",
              "      <th>Contact</th>\n",
              "      <td>0</td>\n",
              "    </tr>\n",
              "    <tr>\n",
              "      <th>Job Title</th>\n",
              "      <td>0</td>\n",
              "    </tr>\n",
              "    <tr>\n",
              "      <th>Role</th>\n",
              "      <td>0</td>\n",
              "    </tr>\n",
              "    <tr>\n",
              "      <th>Benefits</th>\n",
              "      <td>0</td>\n",
              "    </tr>\n",
              "    <tr>\n",
              "      <th>skills</th>\n",
              "      <td>0</td>\n",
              "    </tr>\n",
              "    <tr>\n",
              "      <th>Responsibilities</th>\n",
              "      <td>0</td>\n",
              "    </tr>\n",
              "    <tr>\n",
              "      <th>Company</th>\n",
              "      <td>0</td>\n",
              "    </tr>\n",
              "  </tbody>\n",
              "</table>\n",
              "</div><br><label><b>dtype:</b> int64</label>"
            ]
          },
          "metadata": {},
          "execution_count": 143
        }
      ]
    },
    {
      "cell_type": "code",
      "source": [
        "df.head(3)"
      ],
      "metadata": {
        "colab": {
          "base_uri": "https://localhost:8080/",
          "height": 424
        },
        "id": "W1n_aUtUybcO",
        "outputId": "e1d733d1-3262-4340-b8d5-7f75ec71fbe9"
      },
      "execution_count": 144,
      "outputs": [
        {
          "output_type": "execute_result",
          "data": {
            "text/plain": [
              "      Experience Qualifications Salary Range           Country  Work Type  \\\n",
              "0  5 to 15 Years         M.Tech    $59K-$99K       Isle of Man     Intern   \n",
              "1  2 to 12 Years            BCA   $56K-$116K      Turkmenistan     Intern   \n",
              "2  0 to 12 Years            PhD   $61K-$104K  Macao SAR, China  Temporary   \n",
              "\n",
              "   Company Size Job Posting Date Preference      Contact Person  \\\n",
              "0         26801       2022-04-24     Female  Brandon Cunningham   \n",
              "1        100340       2022-12-19     Female    Francisco Larsen   \n",
              "2         84525       2022-09-14       Male         Gary Gibson   \n",
              "\n",
              "                Contact                     Job Title  \\\n",
              "0  001-381-930-7517x737  Digital Marketing Specialist   \n",
              "1          461-509-4216                 Web Developer   \n",
              "2            9687619505            Operations Manager   \n",
              "\n",
              "                      Role                                           Benefits  \\\n",
              "0     Social Media Manager  {'Flexible Spending Accounts (FSAs), Relocatio...   \n",
              "1   Frontend Web Developer  {'Health Insurance, Retirement Plans, Paid Tim...   \n",
              "2  Quality Control Manager  {'Legal Assistance, Bonuses and Incentive Prog...   \n",
              "\n",
              "                                              skills  \\\n",
              "0  Social media platforms (e.g., Facebook, Twitte...   \n",
              "1  HTML, CSS, JavaScript Frontend frameworks (e.g...   \n",
              "2  Quality control processes and methodologies St...   \n",
              "\n",
              "                                    Responsibilities  \\\n",
              "0  Manage and grow social media accounts, create ...   \n",
              "1  Design and code user interfaces for websites, ...   \n",
              "2  Establish and enforce quality control standard...   \n",
              "\n",
              "                            Company  \n",
              "0                 Icahn Enterprises  \n",
              "1      PNC Financial Services Group  \n",
              "2  United Services Automobile Assn.  "
            ],
            "text/html": [
              "\n",
              "  <div id=\"df-e2e95d54-0ccf-47ae-9acd-b7b06a421f77\" class=\"colab-df-container\">\n",
              "    <div>\n",
              "<style scoped>\n",
              "    .dataframe tbody tr th:only-of-type {\n",
              "        vertical-align: middle;\n",
              "    }\n",
              "\n",
              "    .dataframe tbody tr th {\n",
              "        vertical-align: top;\n",
              "    }\n",
              "\n",
              "    .dataframe thead th {\n",
              "        text-align: right;\n",
              "    }\n",
              "</style>\n",
              "<table border=\"1\" class=\"dataframe\">\n",
              "  <thead>\n",
              "    <tr style=\"text-align: right;\">\n",
              "      <th></th>\n",
              "      <th>Experience</th>\n",
              "      <th>Qualifications</th>\n",
              "      <th>Salary Range</th>\n",
              "      <th>Country</th>\n",
              "      <th>Work Type</th>\n",
              "      <th>Company Size</th>\n",
              "      <th>Job Posting Date</th>\n",
              "      <th>Preference</th>\n",
              "      <th>Contact Person</th>\n",
              "      <th>Contact</th>\n",
              "      <th>Job Title</th>\n",
              "      <th>Role</th>\n",
              "      <th>Benefits</th>\n",
              "      <th>skills</th>\n",
              "      <th>Responsibilities</th>\n",
              "      <th>Company</th>\n",
              "    </tr>\n",
              "  </thead>\n",
              "  <tbody>\n",
              "    <tr>\n",
              "      <th>0</th>\n",
              "      <td>5 to 15 Years</td>\n",
              "      <td>M.Tech</td>\n",
              "      <td>$59K-$99K</td>\n",
              "      <td>Isle of Man</td>\n",
              "      <td>Intern</td>\n",
              "      <td>26801</td>\n",
              "      <td>2022-04-24</td>\n",
              "      <td>Female</td>\n",
              "      <td>Brandon Cunningham</td>\n",
              "      <td>001-381-930-7517x737</td>\n",
              "      <td>Digital Marketing Specialist</td>\n",
              "      <td>Social Media Manager</td>\n",
              "      <td>{'Flexible Spending Accounts (FSAs), Relocatio...</td>\n",
              "      <td>Social media platforms (e.g., Facebook, Twitte...</td>\n",
              "      <td>Manage and grow social media accounts, create ...</td>\n",
              "      <td>Icahn Enterprises</td>\n",
              "    </tr>\n",
              "    <tr>\n",
              "      <th>1</th>\n",
              "      <td>2 to 12 Years</td>\n",
              "      <td>BCA</td>\n",
              "      <td>$56K-$116K</td>\n",
              "      <td>Turkmenistan</td>\n",
              "      <td>Intern</td>\n",
              "      <td>100340</td>\n",
              "      <td>2022-12-19</td>\n",
              "      <td>Female</td>\n",
              "      <td>Francisco Larsen</td>\n",
              "      <td>461-509-4216</td>\n",
              "      <td>Web Developer</td>\n",
              "      <td>Frontend Web Developer</td>\n",
              "      <td>{'Health Insurance, Retirement Plans, Paid Tim...</td>\n",
              "      <td>HTML, CSS, JavaScript Frontend frameworks (e.g...</td>\n",
              "      <td>Design and code user interfaces for websites, ...</td>\n",
              "      <td>PNC Financial Services Group</td>\n",
              "    </tr>\n",
              "    <tr>\n",
              "      <th>2</th>\n",
              "      <td>0 to 12 Years</td>\n",
              "      <td>PhD</td>\n",
              "      <td>$61K-$104K</td>\n",
              "      <td>Macao SAR, China</td>\n",
              "      <td>Temporary</td>\n",
              "      <td>84525</td>\n",
              "      <td>2022-09-14</td>\n",
              "      <td>Male</td>\n",
              "      <td>Gary Gibson</td>\n",
              "      <td>9687619505</td>\n",
              "      <td>Operations Manager</td>\n",
              "      <td>Quality Control Manager</td>\n",
              "      <td>{'Legal Assistance, Bonuses and Incentive Prog...</td>\n",
              "      <td>Quality control processes and methodologies St...</td>\n",
              "      <td>Establish and enforce quality control standard...</td>\n",
              "      <td>United Services Automobile Assn.</td>\n",
              "    </tr>\n",
              "  </tbody>\n",
              "</table>\n",
              "</div>\n",
              "    <div class=\"colab-df-buttons\">\n",
              "\n",
              "  <div class=\"colab-df-container\">\n",
              "    <button class=\"colab-df-convert\" onclick=\"convertToInteractive('df-e2e95d54-0ccf-47ae-9acd-b7b06a421f77')\"\n",
              "            title=\"Convert this dataframe to an interactive table.\"\n",
              "            style=\"display:none;\">\n",
              "\n",
              "  <svg xmlns=\"http://www.w3.org/2000/svg\" height=\"24px\" viewBox=\"0 -960 960 960\">\n",
              "    <path d=\"M120-120v-720h720v720H120Zm60-500h600v-160H180v160Zm220 220h160v-160H400v160Zm0 220h160v-160H400v160ZM180-400h160v-160H180v160Zm440 0h160v-160H620v160ZM180-180h160v-160H180v160Zm440 0h160v-160H620v160Z\"/>\n",
              "  </svg>\n",
              "    </button>\n",
              "\n",
              "  <style>\n",
              "    .colab-df-container {\n",
              "      display:flex;\n",
              "      gap: 12px;\n",
              "    }\n",
              "\n",
              "    .colab-df-convert {\n",
              "      background-color: #E8F0FE;\n",
              "      border: none;\n",
              "      border-radius: 50%;\n",
              "      cursor: pointer;\n",
              "      display: none;\n",
              "      fill: #1967D2;\n",
              "      height: 32px;\n",
              "      padding: 0 0 0 0;\n",
              "      width: 32px;\n",
              "    }\n",
              "\n",
              "    .colab-df-convert:hover {\n",
              "      background-color: #E2EBFA;\n",
              "      box-shadow: 0px 1px 2px rgba(60, 64, 67, 0.3), 0px 1px 3px 1px rgba(60, 64, 67, 0.15);\n",
              "      fill: #174EA6;\n",
              "    }\n",
              "\n",
              "    .colab-df-buttons div {\n",
              "      margin-bottom: 4px;\n",
              "    }\n",
              "\n",
              "    [theme=dark] .colab-df-convert {\n",
              "      background-color: #3B4455;\n",
              "      fill: #D2E3FC;\n",
              "    }\n",
              "\n",
              "    [theme=dark] .colab-df-convert:hover {\n",
              "      background-color: #434B5C;\n",
              "      box-shadow: 0px 1px 3px 1px rgba(0, 0, 0, 0.15);\n",
              "      filter: drop-shadow(0px 1px 2px rgba(0, 0, 0, 0.3));\n",
              "      fill: #FFFFFF;\n",
              "    }\n",
              "  </style>\n",
              "\n",
              "    <script>\n",
              "      const buttonEl =\n",
              "        document.querySelector('#df-e2e95d54-0ccf-47ae-9acd-b7b06a421f77 button.colab-df-convert');\n",
              "      buttonEl.style.display =\n",
              "        google.colab.kernel.accessAllowed ? 'block' : 'none';\n",
              "\n",
              "      async function convertToInteractive(key) {\n",
              "        const element = document.querySelector('#df-e2e95d54-0ccf-47ae-9acd-b7b06a421f77');\n",
              "        const dataTable =\n",
              "          await google.colab.kernel.invokeFunction('convertToInteractive',\n",
              "                                                    [key], {});\n",
              "        if (!dataTable) return;\n",
              "\n",
              "        const docLinkHtml = 'Like what you see? Visit the ' +\n",
              "          '<a target=\"_blank\" href=https://colab.research.google.com/notebooks/data_table.ipynb>data table notebook</a>'\n",
              "          + ' to learn more about interactive tables.';\n",
              "        element.innerHTML = '';\n",
              "        dataTable['output_type'] = 'display_data';\n",
              "        await google.colab.output.renderOutput(dataTable, element);\n",
              "        const docLink = document.createElement('div');\n",
              "        docLink.innerHTML = docLinkHtml;\n",
              "        element.appendChild(docLink);\n",
              "      }\n",
              "    </script>\n",
              "  </div>\n",
              "\n",
              "\n",
              "<div id=\"df-95f58d6d-c7f1-47cc-a4bb-37da559066b9\">\n",
              "  <button class=\"colab-df-quickchart\" onclick=\"quickchart('df-95f58d6d-c7f1-47cc-a4bb-37da559066b9')\"\n",
              "            title=\"Suggest charts\"\n",
              "            style=\"display:none;\">\n",
              "\n",
              "<svg xmlns=\"http://www.w3.org/2000/svg\" height=\"24px\"viewBox=\"0 0 24 24\"\n",
              "     width=\"24px\">\n",
              "    <g>\n",
              "        <path d=\"M19 3H5c-1.1 0-2 .9-2 2v14c0 1.1.9 2 2 2h14c1.1 0 2-.9 2-2V5c0-1.1-.9-2-2-2zM9 17H7v-7h2v7zm4 0h-2V7h2v10zm4 0h-2v-4h2v4z\"/>\n",
              "    </g>\n",
              "</svg>\n",
              "  </button>\n",
              "\n",
              "<style>\n",
              "  .colab-df-quickchart {\n",
              "      --bg-color: #E8F0FE;\n",
              "      --fill-color: #1967D2;\n",
              "      --hover-bg-color: #E2EBFA;\n",
              "      --hover-fill-color: #174EA6;\n",
              "      --disabled-fill-color: #AAA;\n",
              "      --disabled-bg-color: #DDD;\n",
              "  }\n",
              "\n",
              "  [theme=dark] .colab-df-quickchart {\n",
              "      --bg-color: #3B4455;\n",
              "      --fill-color: #D2E3FC;\n",
              "      --hover-bg-color: #434B5C;\n",
              "      --hover-fill-color: #FFFFFF;\n",
              "      --disabled-bg-color: #3B4455;\n",
              "      --disabled-fill-color: #666;\n",
              "  }\n",
              "\n",
              "  .colab-df-quickchart {\n",
              "    background-color: var(--bg-color);\n",
              "    border: none;\n",
              "    border-radius: 50%;\n",
              "    cursor: pointer;\n",
              "    display: none;\n",
              "    fill: var(--fill-color);\n",
              "    height: 32px;\n",
              "    padding: 0;\n",
              "    width: 32px;\n",
              "  }\n",
              "\n",
              "  .colab-df-quickchart:hover {\n",
              "    background-color: var(--hover-bg-color);\n",
              "    box-shadow: 0 1px 2px rgba(60, 64, 67, 0.3), 0 1px 3px 1px rgba(60, 64, 67, 0.15);\n",
              "    fill: var(--button-hover-fill-color);\n",
              "  }\n",
              "\n",
              "  .colab-df-quickchart-complete:disabled,\n",
              "  .colab-df-quickchart-complete:disabled:hover {\n",
              "    background-color: var(--disabled-bg-color);\n",
              "    fill: var(--disabled-fill-color);\n",
              "    box-shadow: none;\n",
              "  }\n",
              "\n",
              "  .colab-df-spinner {\n",
              "    border: 2px solid var(--fill-color);\n",
              "    border-color: transparent;\n",
              "    border-bottom-color: var(--fill-color);\n",
              "    animation:\n",
              "      spin 1s steps(1) infinite;\n",
              "  }\n",
              "\n",
              "  @keyframes spin {\n",
              "    0% {\n",
              "      border-color: transparent;\n",
              "      border-bottom-color: var(--fill-color);\n",
              "      border-left-color: var(--fill-color);\n",
              "    }\n",
              "    20% {\n",
              "      border-color: transparent;\n",
              "      border-left-color: var(--fill-color);\n",
              "      border-top-color: var(--fill-color);\n",
              "    }\n",
              "    30% {\n",
              "      border-color: transparent;\n",
              "      border-left-color: var(--fill-color);\n",
              "      border-top-color: var(--fill-color);\n",
              "      border-right-color: var(--fill-color);\n",
              "    }\n",
              "    40% {\n",
              "      border-color: transparent;\n",
              "      border-right-color: var(--fill-color);\n",
              "      border-top-color: var(--fill-color);\n",
              "    }\n",
              "    60% {\n",
              "      border-color: transparent;\n",
              "      border-right-color: var(--fill-color);\n",
              "    }\n",
              "    80% {\n",
              "      border-color: transparent;\n",
              "      border-right-color: var(--fill-color);\n",
              "      border-bottom-color: var(--fill-color);\n",
              "    }\n",
              "    90% {\n",
              "      border-color: transparent;\n",
              "      border-bottom-color: var(--fill-color);\n",
              "    }\n",
              "  }\n",
              "</style>\n",
              "\n",
              "  <script>\n",
              "    async function quickchart(key) {\n",
              "      const quickchartButtonEl =\n",
              "        document.querySelector('#' + key + ' button');\n",
              "      quickchartButtonEl.disabled = true;  // To prevent multiple clicks.\n",
              "      quickchartButtonEl.classList.add('colab-df-spinner');\n",
              "      try {\n",
              "        const charts = await google.colab.kernel.invokeFunction(\n",
              "            'suggestCharts', [key], {});\n",
              "      } catch (error) {\n",
              "        console.error('Error during call to suggestCharts:', error);\n",
              "      }\n",
              "      quickchartButtonEl.classList.remove('colab-df-spinner');\n",
              "      quickchartButtonEl.classList.add('colab-df-quickchart-complete');\n",
              "    }\n",
              "    (() => {\n",
              "      let quickchartButtonEl =\n",
              "        document.querySelector('#df-95f58d6d-c7f1-47cc-a4bb-37da559066b9 button');\n",
              "      quickchartButtonEl.style.display =\n",
              "        google.colab.kernel.accessAllowed ? 'block' : 'none';\n",
              "    })();\n",
              "  </script>\n",
              "</div>\n",
              "\n",
              "    </div>\n",
              "  </div>\n"
            ],
            "application/vnd.google.colaboratory.intrinsic+json": {
              "type": "dataframe",
              "variable_name": "df",
              "summary": "{\n  \"name\": \"df\",\n  \"rows\": 100000,\n  \"fields\": [\n    {\n      \"column\": \"Experience\",\n      \"properties\": {\n        \"dtype\": \"category\",\n        \"num_unique_values\": 48,\n        \"samples\": [\n          \"0 to 8 Years\",\n          \"2 to 15 Years\",\n          \"1 to 13 Years\"\n        ],\n        \"semantic_type\": \"\",\n        \"description\": \"\"\n      }\n    },\n    {\n      \"column\": \"Qualifications\",\n      \"properties\": {\n        \"dtype\": \"category\",\n        \"num_unique_values\": 10,\n        \"samples\": [\n          \"B.Com\",\n          \"BCA\",\n          \"M.Com\"\n        ],\n        \"semantic_type\": \"\",\n        \"description\": \"\"\n      }\n    },\n    {\n      \"column\": \"Salary Range\",\n      \"properties\": {\n        \"dtype\": \"category\",\n        \"num_unique_values\": 561,\n        \"samples\": [\n          \"$62K-$116K\",\n          \"$57K-$101K\",\n          \"$55K-$84K\"\n        ],\n        \"semantic_type\": \"\",\n        \"description\": \"\"\n      }\n    },\n    {\n      \"column\": \"Country\",\n      \"properties\": {\n        \"dtype\": \"category\",\n        \"num_unique_values\": 216,\n        \"samples\": [\n          \"Namibia\",\n          \"Vietnam\",\n          \"Myanmar\"\n        ],\n        \"semantic_type\": \"\",\n        \"description\": \"\"\n      }\n    },\n    {\n      \"column\": \"Work Type\",\n      \"properties\": {\n        \"dtype\": \"category\",\n        \"num_unique_values\": 5,\n        \"samples\": [\n          \"Temporary\",\n          \"Part-Time\",\n          \"Full-Time\"\n        ],\n        \"semantic_type\": \"\",\n        \"description\": \"\"\n      }\n    },\n    {\n      \"column\": \"Company Size\",\n      \"properties\": {\n        \"dtype\": \"number\",\n        \"std\": 35309,\n        \"min\": 12646,\n        \"max\": 134834,\n        \"num_unique_values\": 68209,\n        \"samples\": [\n          24001,\n          120604,\n          13080\n        ],\n        \"semantic_type\": \"\",\n        \"description\": \"\"\n      }\n    },\n    {\n      \"column\": \"Job Posting Date\",\n      \"properties\": {\n        \"dtype\": \"object\",\n        \"num_unique_values\": 731,\n        \"samples\": [\n          \"2023-09-10\",\n          \"2023-03-27\",\n          \"2023-04-18\"\n        ],\n        \"semantic_type\": \"\",\n        \"description\": \"\"\n      }\n    },\n    {\n      \"column\": \"Preference\",\n      \"properties\": {\n        \"dtype\": \"category\",\n        \"num_unique_values\": 3,\n        \"samples\": [\n          \"Female\",\n          \"Male\",\n          \"Both\"\n        ],\n        \"semantic_type\": \"\",\n        \"description\": \"\"\n      }\n    },\n    {\n      \"column\": \"Contact Person\",\n      \"properties\": {\n        \"dtype\": \"string\",\n        \"num_unique_values\": 69105,\n        \"samples\": [\n          \"Danielle Pruitt\",\n          \"Brandon Ward\",\n          \"Joshua Underwood\"\n        ],\n        \"semantic_type\": \"\",\n        \"description\": \"\"\n      }\n    },\n    {\n      \"column\": \"Contact\",\n      \"properties\": {\n        \"dtype\": \"string\",\n        \"num_unique_values\": 100000,\n        \"samples\": [\n          \"(771)379-2825x765\",\n          \"+1-981-553-0151x380\",\n          \"(334)333-3423x76085\"\n        ],\n        \"semantic_type\": \"\",\n        \"description\": \"\"\n      }\n    },\n    {\n      \"column\": \"Job Title\",\n      \"properties\": {\n        \"dtype\": \"category\",\n        \"num_unique_values\": 147,\n        \"samples\": [\n          \"Pediatrician\",\n          \"Project Manager\",\n          \"Administrative Assistant\"\n        ],\n        \"semantic_type\": \"\",\n        \"description\": \"\"\n      }\n    },\n    {\n      \"column\": \"Role\",\n      \"properties\": {\n        \"dtype\": \"category\",\n        \"num_unique_values\": 376,\n        \"samples\": [\n          \"Hospitality Interior Designer\",\n          \"E-commerce Web Designer\",\n          \"Facilities Manager\"\n        ],\n        \"semantic_type\": \"\",\n        \"description\": \"\"\n      }\n    },\n    {\n      \"column\": \"Benefits\",\n      \"properties\": {\n        \"dtype\": \"category\",\n        \"num_unique_values\": 11,\n        \"samples\": [\n          \"{'Employee Assistance Programs (EAP), Tuition Reimbursement, Profit-Sharing, Transportation Benefits, Parental Leave'}\",\n          \"{'Flexible Spending Accounts (FSAs), Relocation Assistance, Legal Assistance, Employee Recognition Programs, Financial Counseling'}\",\n          \"{'Health Insurance, Retirement Plans, Flexible Work Arrangements, Employee Assistance Programs (EAP), Bonuses and Incentive Programs'}\"\n        ],\n        \"semantic_type\": \"\",\n        \"description\": \"\"\n      }\n    },\n    {\n      \"column\": \"skills\",\n      \"properties\": {\n        \"dtype\": \"category\",\n        \"num_unique_values\": 376,\n        \"samples\": [\n          \"Hospitality interior design Hotel and restaurant design Branding and theme integration FF&E (furniture, fixtures, and equipment) selection Customer experience design\",\n          \"E-commerce web design UX/UI design Shopping cart integration Payment gateway integration Mobile responsiveness E-commerce platforms (e.g., Shopify)\",\n          \"Facilities management Property maintenance Space planning Budget management Health and safety compliance Vendor management\"\n        ],\n        \"semantic_type\": \"\",\n        \"description\": \"\"\n      }\n    },\n    {\n      \"column\": \"Responsibilities\",\n      \"properties\": {\n        \"dtype\": \"category\",\n        \"num_unique_values\": 375,\n        \"samples\": [\n          \"Manage the overall brand identity, create marketing campaigns, and ensure brand consistency across all materials and touchpoints. Monitor brand performance and reputation. Collaborate with creative teams on branding materials.\",\n          \"Specialize in lighting design, creating lighting plans for interiors and exteriors. Select lighting fixtures and systems. Enhance visual appeal and energy efficiency through lighting design.\",\n          \"Manage the branding of specific products or product lines. Create product launch plans and marketing campaigns. Ensure consistent product messaging and brand representation.\"\n        ],\n        \"semantic_type\": \"\",\n        \"description\": \"\"\n      }\n    },\n    {\n      \"column\": \"Company\",\n      \"properties\": {\n        \"dtype\": \"category\",\n        \"num_unique_values\": 888,\n        \"samples\": [\n          \"Weir Group\",\n          \"Motorola Solutions\",\n          \"Fannie Mae\"\n        ],\n        \"semantic_type\": \"\",\n        \"description\": \"\"\n      }\n    }\n  ]\n}"
            }
          },
          "metadata": {},
          "execution_count": 144
        }
      ]
    },
    {
      "cell_type": "markdown",
      "source": [
        "**2.2 Changing the Data Type of date column**"
      ],
      "metadata": {
        "id": "kI6JvgcqynW3"
      }
    },
    {
      "cell_type": "code",
      "source": [
        "df.info()"
      ],
      "metadata": {
        "colab": {
          "base_uri": "https://localhost:8080/"
        },
        "id": "gKC3FiSVydvL",
        "outputId": "fa150c89-c9b0-4ed8-848f-598fd998668a"
      },
      "execution_count": 145,
      "outputs": [
        {
          "output_type": "stream",
          "name": "stdout",
          "text": [
            "<class 'pandas.core.frame.DataFrame'>\n",
            "RangeIndex: 100000 entries, 0 to 99999\n",
            "Data columns (total 16 columns):\n",
            " #   Column            Non-Null Count   Dtype \n",
            "---  ------            --------------   ----- \n",
            " 0   Experience        100000 non-null  object\n",
            " 1   Qualifications    100000 non-null  object\n",
            " 2   Salary Range      100000 non-null  object\n",
            " 3   Country           100000 non-null  object\n",
            " 4   Work Type         100000 non-null  object\n",
            " 5   Company Size      100000 non-null  int64 \n",
            " 6   Job Posting Date  100000 non-null  object\n",
            " 7   Preference        100000 non-null  object\n",
            " 8   Contact Person    100000 non-null  object\n",
            " 9   Contact           100000 non-null  object\n",
            " 10  Job Title         100000 non-null  object\n",
            " 11  Role              100000 non-null  object\n",
            " 12  Benefits          100000 non-null  object\n",
            " 13  skills            100000 non-null  object\n",
            " 14  Responsibilities  100000 non-null  object\n",
            " 15  Company           100000 non-null  object\n",
            "dtypes: int64(1), object(15)\n",
            "memory usage: 12.2+ MB\n"
          ]
        }
      ]
    },
    {
      "cell_type": "code",
      "source": [
        "df['Job Posting Date'] = pd.to_datetime(df['Job Posting Date'])"
      ],
      "metadata": {
        "id": "_S2ZN0SRyuYj"
      },
      "execution_count": 146,
      "outputs": []
    },
    {
      "cell_type": "code",
      "source": [
        "df.info()"
      ],
      "metadata": {
        "colab": {
          "base_uri": "https://localhost:8080/"
        },
        "id": "E2QJSr7Qy1xp",
        "outputId": "7795a4d8-3c1e-47fa-e4c1-8a4d730ca817"
      },
      "execution_count": 147,
      "outputs": [
        {
          "output_type": "stream",
          "name": "stdout",
          "text": [
            "<class 'pandas.core.frame.DataFrame'>\n",
            "RangeIndex: 100000 entries, 0 to 99999\n",
            "Data columns (total 16 columns):\n",
            " #   Column            Non-Null Count   Dtype         \n",
            "---  ------            --------------   -----         \n",
            " 0   Experience        100000 non-null  object        \n",
            " 1   Qualifications    100000 non-null  object        \n",
            " 2   Salary Range      100000 non-null  object        \n",
            " 3   Country           100000 non-null  object        \n",
            " 4   Work Type         100000 non-null  object        \n",
            " 5   Company Size      100000 non-null  int64         \n",
            " 6   Job Posting Date  100000 non-null  datetime64[ns]\n",
            " 7   Preference        100000 non-null  object        \n",
            " 8   Contact Person    100000 non-null  object        \n",
            " 9   Contact           100000 non-null  object        \n",
            " 10  Job Title         100000 non-null  object        \n",
            " 11  Role              100000 non-null  object        \n",
            " 12  Benefits          100000 non-null  object        \n",
            " 13  skills            100000 non-null  object        \n",
            " 14  Responsibilities  100000 non-null  object        \n",
            " 15  Company           100000 non-null  object        \n",
            "dtypes: datetime64[ns](1), int64(1), object(14)\n",
            "memory usage: 12.2+ MB\n"
          ]
        }
      ]
    },
    {
      "cell_type": "markdown",
      "source": [
        "### 3. Building the Search Engine"
      ],
      "metadata": {
        "id": "W50UQcLo1mY2"
      }
    },
    {
      "cell_type": "markdown",
      "source": [
        "**3.1 Building Inverted Index**"
      ],
      "metadata": {
        "id": "YykssT2n2H0q"
      }
    },
    {
      "cell_type": "code",
      "source": [
        "def build_inverted_index(df):\n",
        "    inverted_index = defaultdict(list)\n",
        "\n",
        "    # Iterate through each row in the DataFrame\n",
        "    for idx, row in df.iterrows():\n",
        "        # Tokenize the search_term column (split by spaces)\n",
        "        terms = str(row['Job Title']).lower().split()\n",
        "\n",
        "        # Add each term to the inverted index with the document index (row ID)\n",
        "        for term in terms:\n",
        "            if idx not in inverted_index[term]:\n",
        "                inverted_index[term].append(idx)\n",
        "\n",
        "    return inverted_index\n",
        "\n",
        "# Build the inverted index\n",
        "inverted_index = build_inverted_index(df)\n",
        "print(\"\\nInverted Index Built Successfully!\")"
      ],
      "metadata": {
        "colab": {
          "base_uri": "https://localhost:8080/"
        },
        "id": "qAoQOUWf1y4Z",
        "outputId": "07a1fdea-ab45-460f-8e74-350fcedcaa85"
      },
      "execution_count": 148,
      "outputs": [
        {
          "output_type": "stream",
          "name": "stdout",
          "text": [
            "\n",
            "Inverted Index Built Successfully!\n"
          ]
        }
      ]
    },
    {
      "cell_type": "markdown",
      "source": [
        "**3.2 Searching in Inverted Index**"
      ],
      "metadata": {
        "id": "k9YOrRMZ2ihi"
      }
    },
    {
      "cell_type": "code",
      "source": [
        "def search_with_inverted_index(query, inverted_index, df, max_results=5):\n",
        "    query_terms = query.lower().split()\n",
        "    matching_docs = set()\n",
        "\n",
        "    # Collect matching document IDs from the inverted index\n",
        "    for term in query_terms:\n",
        "        if term in inverted_index:\n",
        "            matching_docs.update(inverted_index[term])\n",
        "\n",
        "    # Limit the number of results to max_results (default is 50)\n",
        "    matching_docs = list(matching_docs)[:max_results]\n",
        "\n",
        "    if matching_docs:\n",
        "        print(f\"\\nDisplaying up to {max_results} results for search term '{query}':\\n\")\n",
        "        for doc_id in matching_docs:\n",
        "            row = df.iloc[doc_id]\n",
        "\n",
        "            # Display the result\n",
        "            print(f\"Job Title : {row['Job Title']}\")\n",
        "            print(f\"Role : {row['Role']}\")\n",
        "            print(f\"Company Name : {row['Company']}\")\n",
        "            print(f\"Location : {row['Country']}\")\n",
        "            print(f\"Qualifications : {row['Qualifications']}\")\n",
        "            print(f\"Experience : {row['Experience']}\")\n",
        "            print(f\"Salary Range : {row['Salary Range']}\")\n",
        "            print(f\"Work Type : {row['Work Type']}\")\n",
        "            print(f\"Responsibilities : {row['Responsibilities']}\")\n",
        "            print(f\"Skills : {row['skills']}\")\n",
        "            print(f\"Benefits : {row['Benefits']}\")\n",
        "            print(f\"Contact\t: {row['Contact']}\")\n",
        "            print(\"-\" * 50)\n",
        "    else:\n",
        "        print(f\"No results found for search term '{query}'.\")\n"
      ],
      "metadata": {
        "id": "S5Kvr-xh2bOI"
      },
      "execution_count": 149,
      "outputs": []
    },
    {
      "cell_type": "code",
      "source": [
        "if __name__ == \"__main__\":\n",
        "    inverted_index = build_inverted_index(df)\n",
        "    while True:\n",
        "        user_query = input(\"\\nEnter your search term (or type 'exit' to quit): \")\n",
        "        if user_query.lower() == 'exit':\n",
        "            break\n",
        "\n",
        "        search_with_inverted_index(user_query, inverted_index, df)"
      ],
      "metadata": {
        "colab": {
          "base_uri": "https://localhost:8080/"
        },
        "id": "v3X4U8aU2lMp",
        "outputId": "9f74d270-1afe-4fb7-d8c4-c300806e85a0"
      },
      "execution_count": 151,
      "outputs": [
        {
          "name": "stdout",
          "output_type": "stream",
          "text": [
            "\n",
            "Enter your search term (or type 'exit' to quit): Data Analyst\n",
            "\n",
            "Displaying up to 5 results for search term 'Data Analyst':\n",
            "\n",
            "Job Title : Investment Analyst\n",
            "Role : Portfolio Manager\n",
            "Company Name : Bajaj Auto\n",
            "Location : Pakistan\n",
            "Qualifications : BCA\n",
            "Experience : 0 to 11 Years\n",
            "Salary Range : $55K-$118K\n",
            "Work Type : Contract\n",
            "Responsibilities : Manage investment portfolios, making investment decisions and asset allocation. Conduct research and analysis to identify investment opportunities. Monitor portfolio performance and risk.\n",
            "Skills : Investment management Financial analysis Risk assessment Asset allocation Portfolio optimization\n",
            "Benefits : {'Flexible Spending Accounts (FSAs), Relocation Assistance, Legal Assistance, Employee Recognition Programs, Financial Counseling'}\n",
            "Contact\t: 405.473.3511x661\n",
            "--------------------------------------------------\n",
            "Job Title : Chemical Analyst\n",
            "Role : Research Chemist\n",
            "Company Name : Travis Perkins\n",
            "Location : Jordan\n",
            "Qualifications : M.Tech\n",
            "Experience : 1 to 8 Years\n",
            "Salary Range : $58K-$120K\n",
            "Work Type : Temporary\n",
            "Responsibilities : Conduct research on chemical properties, reactions, and formulations. Develop new chemical compounds and products. Collaborate on research projects and contribute to scientific publications.\n",
            "Skills : Research chemistry Experimental design Data interpretation Chemical synthesis Research protocols Scientific writing Problem-solving skills\n",
            "Benefits : {'Flexible Spending Accounts (FSAs), Relocation Assistance, Legal Assistance, Employee Recognition Programs, Financial Counseling'}\n",
            "Contact\t: (783)382-7332x7219\n",
            "--------------------------------------------------\n",
            "Job Title : QA Analyst\n",
            "Role : Performance Testing Specialist\n",
            "Company Name : McDonald's\n",
            "Location : Bahrain\n",
            "Qualifications : BCA\n",
            "Experience : 3 to 10 Years\n",
            "Salary Range : $57K-$104K\n",
            "Work Type : Contract\n",
            "Responsibilities : Focus on performance and load testing to assess the scalability and responsiveness of software applications. Identify bottlenecks and optimize application performance. Generate performance test reports and recommendations.\n",
            "Skills : Performance testing Load testing Stress testing Test scenarios Performance monitoring Benchmarking Performance analysis\n",
            "Benefits : {'Flexible Spending Accounts (FSAs), Relocation Assistance, Legal Assistance, Employee Recognition Programs, Financial Counseling'}\n",
            "Contact\t: 001-683-879-1350\n",
            "--------------------------------------------------\n",
            "Job Title : Investment Analyst\n",
            "Role : Portfolio Manager\n",
            "Company Name : Aflac\n",
            "Location : Bermuda\n",
            "Qualifications : B.Com\n",
            "Experience : 0 to 14 Years\n",
            "Salary Range : $65K-$92K\n",
            "Work Type : Contract\n",
            "Responsibilities : Manage investment portfolios, making investment decisions and asset allocation. Conduct research and analysis to identify investment opportunities. Monitor portfolio performance and risk.\n",
            "Skills : Investment management Financial analysis Risk assessment Asset allocation Portfolio optimization\n",
            "Benefits : {'Legal Assistance, Bonuses and Incentive Programs, Wellness Programs, Employee Discounts, Retirement Plans'}\n",
            "Contact\t: 001-731-554-4709x802\n",
            "--------------------------------------------------\n",
            "Job Title : Market Research Analyst\n",
            "Role : Market Research Coordinator\n",
            "Company Name : Starbucks\n",
            "Location : Bahrain\n",
            "Qualifications : BA\n",
            "Experience : 1 to 13 Years\n",
            "Salary Range : $59K-$114K\n",
            "Work Type : Full-Time\n",
            "Responsibilities : Coordinate research projects, including participant recruitment and data collection. Collaborate with research teams and ensure project timelines are met. Maintain research databases and records.\n",
            "Skills : Market research coordination Survey design and administration Data analysis\n",
            "Benefits : {'Legal Assistance, Bonuses and Incentive Programs, Wellness Programs, Employee Discounts, Retirement Plans'}\n",
            "Contact\t: +1-460-919-4674x606\n",
            "--------------------------------------------------\n",
            "\n",
            "Enter your search term (or type 'exit' to quit): Software Developer\n",
            "\n",
            "Displaying up to 5 results for search term 'Software Developer':\n",
            "\n",
            "Job Title : Software Architect\n",
            "Role : Enterprise Architect\n",
            "Company Name : Polaris\n",
            "Location : Latvia\n",
            "Qualifications : BBA\n",
            "Experience : 0 to 14 Years\n",
            "Salary Range : $63K-$95K\n",
            "Work Type : Temporary\n",
            "Responsibilities : Focus on aligning software solutions with overall enterprise architecture. Ensure scalability, security, and interoperability. Evaluate and recommend technology stacks and tools.\n",
            "Skills : Enterprise architecture Business strategy alignment IT governance and compliance\n",
            "Benefits : {'Casual Dress Code, Social and Recreational Activities, Employee Referral Programs, Health and Wellness Facilities, Life and Disability Insurance'}\n",
            "Contact\t: +1-768-970-9442x8787\n",
            "--------------------------------------------------\n",
            "Job Title : Web Developer\n",
            "Role : Frontend Web Developer\n",
            "Company Name : PNC Financial Services Group\n",
            "Location : Turkmenistan\n",
            "Qualifications : BCA\n",
            "Experience : 2 to 12 Years\n",
            "Salary Range : $56K-$116K\n",
            "Work Type : Intern\n",
            "Responsibilities : Design and code user interfaces for websites, ensuring a seamless and visually appealing user experience. Collaborate with UX designers to optimize user journeys. Ensure cross-browser compatibility and responsive design.\n",
            "Skills : HTML, CSS, JavaScript Frontend frameworks (e.g., React, Angular) User experience (UX)\n",
            "Benefits : {'Health Insurance, Retirement Plans, Paid Time Off (PTO), Flexible Work Arrangements, Employee Assistance Programs (EAP)'}\n",
            "Contact\t: 461-509-4216\n",
            "--------------------------------------------------\n",
            "Job Title : Software Tester\n",
            "Role : Performance Tester\n",
            "Company Name : Sanmina\n",
            "Location : Malawi\n",
            "Qualifications : MBA\n",
            "Experience : 5 to 11 Years\n",
            "Salary Range : $58K-$98K\n",
            "Work Type : Intern\n",
            "Responsibilities : Evaluate software performance and scalability through load and stress testing. Identify performance bottlenecks and optimize system performance. Generate performance reports and recommendations.\n",
            "Skills : Performance testing methodologies Load testing tools (e.g., JMeter) Test script development Performance profiling and analysis Bottleneck identification\n",
            "Benefits : {'Life and Disability Insurance, Stock Options or Equity Grants, Employee Recognition Programs, Health Insurance, Social and Recreational Activities'}\n",
            "Contact\t: +1-934-387-3560x344\n",
            "--------------------------------------------------\n",
            "Job Title : Back-End Developer\n",
            "Role : Server Developer\n",
            "Company Name : Cleveland-Cliffs\n",
            "Location : Korea, Rep.\n",
            "Qualifications : PhD\n",
            "Experience : 4 to 9 Years\n",
            "Salary Range : $62K-$96K\n",
            "Work Type : Full-Time\n",
            "Responsibilities : Develop and maintain server-side logic and databases for web applications. Optimize server performance and scalability. Collaborate with front-end developers to integrate user interfaces.\n",
            "Skills : Server-side programming languages (e.g., Java, Python) Database management API development\n",
            "Benefits : {'Flexible Spending Accounts (FSAs), Relocation Assistance, Legal Assistance, Employee Recognition Programs, Financial Counseling'}\n",
            "Contact\t: +1-966-293-6573\n",
            "--------------------------------------------------\n",
            "Job Title : Software Tester\n",
            "Role : Quality Assurance Analyst\n",
            "Company Name : Adani Ports and Special Economic Zone\n",
            "Location : Belgium\n",
            "Qualifications : MCA\n",
            "Experience : 4 to 12 Years\n",
            "Salary Range : $59K-$93K\n",
            "Work Type : Full-Time\n",
            "Responsibilities : Test software applications and systems to identify defects and ensure quality. Create test plans, test cases, and test scripts. Collaborate with development teams to resolve issues.\n",
            "Skills : Quality assurance processes Testing methodologies (e.g., manual, automated) Bug tracking and reporting Test case development Regression testing\n",
            "Benefits : {'Life and Disability Insurance, Stock Options or Equity Grants, Employee Recognition Programs, Health Insurance, Social and Recreational Activities'}\n",
            "Contact\t: (973)791-5355x52199\n",
            "--------------------------------------------------\n",
            "\n",
            "Enter your search term (or type 'exit' to quit): exit\n"
          ]
        }
      ]
    }
  ]
}